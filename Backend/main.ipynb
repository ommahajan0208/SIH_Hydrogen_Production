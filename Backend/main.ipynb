{
 "cells": [
  {
   "cell_type": "raw",
   "id": "50fd33bd-65da-4733-9e41-b39016cf2d0e",
   "metadata": {},
   "source": [
    "This notebook is intended only for the Smart India Hackathon. Unauthorized use, copying, or sharing without the author’s consent is not allowed."
   ]
  },
  {
   "cell_type": "raw",
   "id": "e5b3999f-4590-4db1-83e5-686bc88cb22f",
   "metadata": {},
   "source": [
    "What this notebook consist:\n",
    "\n",
    "1. Historical data generation for training\n",
    "2. XGBoost ML models for H₂ output and efficiency predictions\n",
    "3. Live data simulation system\n",
    "4. Dynamic dataframe building from live readings\n",
    "5. Interactive dashboard with multiple charts"
   ]
  },
  {
   "cell_type": "code",
   "execution_count": 14,
   "id": "fccedfc9-cdbf-4f8f-9767-c6fc8fe78fd5",
   "metadata": {},
   "outputs": [],
   "source": [
    "# Hydrogen System Prototype - Notebook "
   ]
  },
  {
   "cell_type": "code",
   "execution_count": 15,
   "id": "9229cc99-dcb4-4aa4-9e4d-df8001ad5d1f",
   "metadata": {},
   "outputs": [],
   "source": [
    "import pandas as pd\n",
    "import numpy as np\n",
    "import matplotlib.pyplot as plt\n",
    "import time\n",
    "from IPython.display import clear_output, display\n",
    "import warnings\n",
    "warnings.filterwarnings('ignore')\n",
    "\n",
    "# For visualizations\n",
    "import plotly.express as px\n",
    "import plotly.graph_objects as go\n",
    "from plotly.subplots import make_subplots"
   ]
  },
  {
   "cell_type": "code",
   "execution_count": 16,
   "id": "371fe9ff-ac23-4bb9-af0c-dd6a970e1727",
   "metadata": {},
   "outputs": [],
   "source": [
    "# General system configuration\n",
    "config = {\n",
    "    'total_capacity_kw': 500,\n",
    "    'num_electrolyzers': 3,\n",
    "    'tank_capacity_kg': 1000,\n",
    "    'target_output_kg_hr': 20,\n",
    "    'efficiency_baseline': 0.60,  # 60 baseline efficiency\n",
    "    'operating_hours_per_day': 20\n",
    "}\n",
    "\n",
    "# Location-specific parameters (optional - can be customized)\n",
    "location_params = {\n",
    "    'location': 'Berlin',\n",
    "    'avg_temperature': 15,  # °C\n",
    "    'solar_capacity_kw': 300,\n",
    "    'wind_capacity_kw': 150,\n",
    "    'grid_capacity_kw': 50\n",
    "}"
   ]
  },
  {
   "cell_type": "code",
   "execution_count": 17,
   "id": "47663633-b5f6-4c4f-92d2-b3b6ec757988",
   "metadata": {},
   "outputs": [
    {
     "name": "stdout",
     "output_type": "stream",
     "text": [
      " Generated 720 hours of historical data\n",
      "\n",
      "First 5 rows:\n"
     ]
    },
    {
     "data": {
      "text/html": [
       "<div>\n",
       "<style scoped>\n",
       "    .dataframe tbody tr th:only-of-type {\n",
       "        vertical-align: middle;\n",
       "    }\n",
       "\n",
       "    .dataframe tbody tr th {\n",
       "        vertical-align: top;\n",
       "    }\n",
       "\n",
       "    .dataframe thead th {\n",
       "        text-align: right;\n",
       "    }\n",
       "</style>\n",
       "<table border=\"1\" class=\"dataframe\">\n",
       "  <thead>\n",
       "    <tr style=\"text-align: right;\">\n",
       "      <th></th>\n",
       "      <th>timestamp</th>\n",
       "      <th>energy_input_kw</th>\n",
       "      <th>temperature_c</th>\n",
       "      <th>solar_generation_kw</th>\n",
       "      <th>wind_generation_kw</th>\n",
       "      <th>tank_level_pct</th>\n",
       "      <th>hydrogen_output_kg_hr</th>\n",
       "      <th>efficiency_pct</th>\n",
       "    </tr>\n",
       "  </thead>\n",
       "  <tbody>\n",
       "    <tr>\n",
       "      <th>0</th>\n",
       "      <td>2025-01-01 00:00:00</td>\n",
       "      <td>474.835708</td>\n",
       "      <td>16.539009</td>\n",
       "      <td>133.863481</td>\n",
       "      <td>78.559375</td>\n",
       "      <td>41.721565</td>\n",
       "      <td>19.19</td>\n",
       "      <td>53.55</td>\n",
       "    </tr>\n",
       "    <tr>\n",
       "      <th>1</th>\n",
       "      <td>2025-01-01 01:00:00</td>\n",
       "      <td>443.086785</td>\n",
       "      <td>6.449158</td>\n",
       "      <td>184.349366</td>\n",
       "      <td>24.870393</td>\n",
       "      <td>62.291277</td>\n",
       "      <td>19.30</td>\n",
       "      <td>51.26</td>\n",
       "    </tr>\n",
       "    <tr>\n",
       "      <th>2</th>\n",
       "      <td>2025-01-01 02:00:00</td>\n",
       "      <td>482.384427</td>\n",
       "      <td>8.259073</td>\n",
       "      <td>111.887177</td>\n",
       "      <td>60.459939</td>\n",
       "      <td>80.832762</td>\n",
       "      <td>20.38</td>\n",
       "      <td>57.04</td>\n",
       "    </tr>\n",
       "    <tr>\n",
       "      <th>3</th>\n",
       "      <td>2025-01-01 03:00:00</td>\n",
       "      <td>526.151493</td>\n",
       "      <td>18.716320</td>\n",
       "      <td>47.963119</td>\n",
       "      <td>88.976569</td>\n",
       "      <td>84.261944</td>\n",
       "      <td>22.61</td>\n",
       "      <td>61.06</td>\n",
       "    </tr>\n",
       "    <tr>\n",
       "      <th>4</th>\n",
       "      <td>2025-01-01 04:00:00</td>\n",
       "      <td>438.292331</td>\n",
       "      <td>15.854327</td>\n",
       "      <td>191.543501</td>\n",
       "      <td>32.547221</td>\n",
       "      <td>44.335328</td>\n",
       "      <td>18.03</td>\n",
       "      <td>50.35</td>\n",
       "    </tr>\n",
       "  </tbody>\n",
       "</table>\n",
       "</div>"
      ],
      "text/plain": [
       "            timestamp  energy_input_kw  temperature_c  solar_generation_kw  \\\n",
       "0 2025-01-01 00:00:00       474.835708      16.539009           133.863481   \n",
       "1 2025-01-01 01:00:00       443.086785       6.449158           184.349366   \n",
       "2 2025-01-01 02:00:00       482.384427       8.259073           111.887177   \n",
       "3 2025-01-01 03:00:00       526.151493      18.716320            47.963119   \n",
       "4 2025-01-01 04:00:00       438.292331      15.854327           191.543501   \n",
       "\n",
       "   wind_generation_kw  tank_level_pct  hydrogen_output_kg_hr  efficiency_pct  \n",
       "0           78.559375       41.721565                  19.19           53.55  \n",
       "1           24.870393       62.291277                  19.30           51.26  \n",
       "2           60.459939       80.832762                  20.38           57.04  \n",
       "3           88.976569       84.261944                  22.61           61.06  \n",
       "4           32.547221       44.335328                  18.03           50.35  "
      ]
     },
     "metadata": {},
     "output_type": "display_data"
    },
    {
     "name": "stdout",
     "output_type": "stream",
     "text": [
      "\n",
      "Data Statistics:\n"
     ]
    },
    {
     "data": {
      "text/html": [
       "<div>\n",
       "<style scoped>\n",
       "    .dataframe tbody tr th:only-of-type {\n",
       "        vertical-align: middle;\n",
       "    }\n",
       "\n",
       "    .dataframe tbody tr th {\n",
       "        vertical-align: top;\n",
       "    }\n",
       "\n",
       "    .dataframe thead th {\n",
       "        text-align: right;\n",
       "    }\n",
       "</style>\n",
       "<table border=\"1\" class=\"dataframe\">\n",
       "  <thead>\n",
       "    <tr style=\"text-align: right;\">\n",
       "      <th></th>\n",
       "      <th>timestamp</th>\n",
       "      <th>energy_input_kw</th>\n",
       "      <th>temperature_c</th>\n",
       "      <th>solar_generation_kw</th>\n",
       "      <th>wind_generation_kw</th>\n",
       "      <th>tank_level_pct</th>\n",
       "      <th>hydrogen_output_kg_hr</th>\n",
       "      <th>efficiency_pct</th>\n",
       "    </tr>\n",
       "  </thead>\n",
       "  <tbody>\n",
       "    <tr>\n",
       "      <th>count</th>\n",
       "      <td>720</td>\n",
       "      <td>720.000000</td>\n",
       "      <td>720.000000</td>\n",
       "      <td>720.000000</td>\n",
       "      <td>720.000000</td>\n",
       "      <td>720.000000</td>\n",
       "      <td>720.000000</td>\n",
       "      <td>720.000000</td>\n",
       "    </tr>\n",
       "    <tr>\n",
       "      <th>mean</th>\n",
       "      <td>2025-01-15 23:30:00</td>\n",
       "      <td>449.447041</td>\n",
       "      <td>15.479221</td>\n",
       "      <td>102.463896</td>\n",
       "      <td>59.821328</td>\n",
       "      <td>65.147057</td>\n",
       "      <td>18.825667</td>\n",
       "      <td>55.390056</td>\n",
       "    </tr>\n",
       "    <tr>\n",
       "      <th>min</th>\n",
       "      <td>2025-01-01 00:00:00</td>\n",
       "      <td>300.000000</td>\n",
       "      <td>5.000000</td>\n",
       "      <td>2.295949</td>\n",
       "      <td>0.775815</td>\n",
       "      <td>40.309191</td>\n",
       "      <td>12.290000</td>\n",
       "      <td>45.000000</td>\n",
       "    </tr>\n",
       "    <tr>\n",
       "      <th>25%</th>\n",
       "      <td>2025-01-08 11:45:00</td>\n",
       "      <td>415.269321</td>\n",
       "      <td>11.987852</td>\n",
       "      <td>50.140172</td>\n",
       "      <td>29.956479</td>\n",
       "      <td>52.912612</td>\n",
       "      <td>17.250000</td>\n",
       "      <td>52.925000</td>\n",
       "    </tr>\n",
       "    <tr>\n",
       "      <th>50%</th>\n",
       "      <td>2025-01-15 23:30:00</td>\n",
       "      <td>449.494515</td>\n",
       "      <td>15.500805</td>\n",
       "      <td>88.345598</td>\n",
       "      <td>51.250822</td>\n",
       "      <td>64.575537</td>\n",
       "      <td>18.835000</td>\n",
       "      <td>55.255000</td>\n",
       "    </tr>\n",
       "    <tr>\n",
       "      <th>75%</th>\n",
       "      <td>2025-01-23 11:15:00</td>\n",
       "      <td>481.520855</td>\n",
       "      <td>18.542591</td>\n",
       "      <td>135.484027</td>\n",
       "      <td>80.877489</td>\n",
       "      <td>77.424815</td>\n",
       "      <td>20.195000</td>\n",
       "      <td>57.935000</td>\n",
       "    </tr>\n",
       "    <tr>\n",
       "      <th>max</th>\n",
       "      <td>2025-01-30 23:00:00</td>\n",
       "      <td>600.000000</td>\n",
       "      <td>28.161910</td>\n",
       "      <td>300.000000</td>\n",
       "      <td>150.000000</td>\n",
       "      <td>89.967515</td>\n",
       "      <td>24.950000</td>\n",
       "      <td>68.590000</td>\n",
       "    </tr>\n",
       "    <tr>\n",
       "      <th>std</th>\n",
       "      <td>NaN</td>\n",
       "      <td>49.039170</td>\n",
       "      <td>4.858075</td>\n",
       "      <td>66.900510</td>\n",
       "      <td>39.197575</td>\n",
       "      <td>14.492970</td>\n",
       "      <td>2.187607</td>\n",
       "      <td>3.775062</td>\n",
       "    </tr>\n",
       "  </tbody>\n",
       "</table>\n",
       "</div>"
      ],
      "text/plain": [
       "                 timestamp  energy_input_kw  temperature_c  \\\n",
       "count                  720       720.000000     720.000000   \n",
       "mean   2025-01-15 23:30:00       449.447041      15.479221   \n",
       "min    2025-01-01 00:00:00       300.000000       5.000000   \n",
       "25%    2025-01-08 11:45:00       415.269321      11.987852   \n",
       "50%    2025-01-15 23:30:00       449.494515      15.500805   \n",
       "75%    2025-01-23 11:15:00       481.520855      18.542591   \n",
       "max    2025-01-30 23:00:00       600.000000      28.161910   \n",
       "std                    NaN        49.039170       4.858075   \n",
       "\n",
       "       solar_generation_kw  wind_generation_kw  tank_level_pct  \\\n",
       "count           720.000000          720.000000      720.000000   \n",
       "mean            102.463896           59.821328       65.147057   \n",
       "min               2.295949            0.775815       40.309191   \n",
       "25%              50.140172           29.956479       52.912612   \n",
       "50%              88.345598           51.250822       64.575537   \n",
       "75%             135.484027           80.877489       77.424815   \n",
       "max             300.000000          150.000000       89.967515   \n",
       "std              66.900510           39.197575       14.492970   \n",
       "\n",
       "       hydrogen_output_kg_hr  efficiency_pct  \n",
       "count             720.000000      720.000000  \n",
       "mean               18.825667       55.390056  \n",
       "min                12.290000       45.000000  \n",
       "25%                17.250000       52.925000  \n",
       "50%                18.835000       55.255000  \n",
       "75%                20.195000       57.935000  \n",
       "max                24.950000       68.590000  \n",
       "std                 2.187607        3.775062  "
      ]
     },
     "metadata": {},
     "output_type": "display_data"
    }
   ],
   "source": [
    "# Generating Historical Training Data \n",
    "\n",
    "# Createing 30 days of historical data for training prediction models\n",
    "np.random.seed(42)\n",
    "days = 30\n",
    "hours_per_day = 24\n",
    "\n",
    "# Generate timestamps\n",
    "timestamps = pd.date_range(start='2025-01-01', periods=days*hours_per_day, freq='H')\n",
    "\n",
    "# Generate realistic operational data\n",
    "historical_data = pd.DataFrame({\n",
    "    'timestamp': timestamps,\n",
    "    'energy_input_kw': np.random.normal(450, 50, len(timestamps)).clip(300, 600),\n",
    "    'temperature_c': np.random.normal(15, 5, len(timestamps)).clip(5, 35),\n",
    "    'solar_generation_kw': np.random.gamma(2, 50, len(timestamps)).clip(0, 300),\n",
    "    'wind_generation_kw': np.random.gamma(2, 30, len(timestamps)).clip(0, 150),\n",
    "    'tank_level_pct': np.random.uniform(40, 90, len(timestamps))\n",
    "})\n",
    "\n",
    "# Calculate hydrogen output based on energy input and conditions\n",
    "historical_data['hydrogen_output_kg_hr'] = (\n",
    "    historical_data['energy_input_kw'] * 0.04 * \n",
    "    (1 + (25 - historical_data['temperature_c']) * 0.005) *\n",
    "    np.random.uniform(0.95, 1.05, len(timestamps))\n",
    ").round(2)\n",
    "\n",
    "# Calculate efficiency\n",
    "\n",
    "historical_data['efficiency_pct'] = (\n",
    "    55  # higher base\n",
    "    + 0.06 * (historical_data['energy_input_kw'] - 400)   # stronger impact of power input\n",
    "    - 0.25 * abs(historical_data['temperature_c'] - 25)   # moderate temp penalty\n",
    "    + np.random.normal(0, 2, len(timestamps))             # small noise\n",
    ").clip(45, 85).round(2)\n",
    "\n",
    "print(f\" Generated {len(historical_data)} hours of historical data\")\n",
    "print(\"\\nFirst 5 rows:\")\n",
    "display(historical_data.head())\n",
    "print(\"\\nData Statistics:\")\n",
    "display(historical_data.describe())\n",
    "\n"
   ]
  },
  {
   "cell_type": "code",
   "execution_count": 18,
   "id": "a8c04e4f-d8ce-44ed-8420-c204e5b5c832",
   "metadata": {},
   "outputs": [],
   "source": [
    "# XGBoost ML Models for Predictions\n",
    "\n",
    "import xgboost as xgb\n",
    "from sklearn.model_selection import train_test_split\n",
    "from sklearn.metrics import mean_absolute_error, r2_score\n",
    "\n",
    "# Feature columns for predictions\n",
    "feature_cols = ['energy_input_kw', 'temperature_c', 'solar_generation_kw', \n",
    "                'wind_generation_kw', 'tank_level_pct']\n",
    "\n",
    "# Prepare features and targets\n",
    "X = historical_data[feature_cols].copy()\n",
    "y_hydrogen = historical_data['hydrogen_output_kg_hr'].copy()\n",
    "y_efficiency = historical_data['efficiency_pct'].copy()\n",
    "\n",
    "# Split data into train and test sets\n",
    "X_train, X_test, y_h2_train, y_h2_test = train_test_split(\n",
    "    X, y_hydrogen, test_size=0.2, random_state=42\n",
    ")\n",
    "_, _, y_eff_train, y_eff_test = train_test_split(\n",
    "    X, y_efficiency, test_size=0.2, random_state=42\n",
    ")\n"
   ]
  },
  {
   "cell_type": "code",
   "execution_count": 19,
   "id": "6aa7cdda-b771-4f21-898d-8224eb433eab",
   "metadata": {},
   "outputs": [
    {
     "name": "stdout",
     "output_type": "stream",
     "text": [
      "  Model trained successfully!\n",
      "  Test MAE: 0.541 kg/hr\n",
      "  Test R² Score: 0.926\n",
      "\n"
     ]
    }
   ],
   "source": [
    "model_hydrogen = xgb.XGBRegressor(\n",
    "    n_estimators=100,\n",
    "    max_depth=5,\n",
    "    learning_rate=0.1,\n",
    "    random_state=42,\n",
    "    objective='reg:squarederror'\n",
    ")\n",
    "\n",
    "model_hydrogen.fit(X_train, y_h2_train, verbose=False)\n",
    "\n",
    "y_h2_pred = model_hydrogen.predict(X_test)\n",
    "h2_mae = mean_absolute_error(y_h2_test, y_h2_pred)\n",
    "h2_r2 = r2_score(y_h2_test, y_h2_pred)\n",
    "print(f\"  Model trained successfully!\")\n",
    "print(f\"  Test MAE: {h2_mae:.3f} kg/hr\")\n",
    "print(f\"  Test R² Score: {h2_r2:.3f}\\n\")"
   ]
  },
  {
   "cell_type": "code",
   "execution_count": 20,
   "id": "221ff1af-333a-49ce-b6b0-5fcf91f6d2a3",
   "metadata": {},
   "outputs": [
    {
     "name": "stdout",
     "output_type": "stream",
     "text": [
      "  Model trained successfully!\n",
      "  Test MAE: 1.804%\n",
      "  Test R² Score: 0.645\n",
      "\n"
     ]
    }
   ],
   "source": [
    "model_efficiency = xgb.XGBRegressor(\n",
    "    n_estimators=100,\n",
    "    max_depth=4,\n",
    "    learning_rate=0.1,\n",
    "    random_state=42,\n",
    "    objective='reg:squarederror'\n",
    ")\n",
    "\n",
    "model_efficiency.fit(X_train, y_eff_train, verbose=False)\n",
    "\n",
    "# Evaluate on test set\n",
    "y_eff_pred = model_efficiency.predict(X_test)\n",
    "eff_mae = mean_absolute_error(y_eff_test, y_eff_pred)\n",
    "eff_r2 = r2_score(y_eff_test, y_eff_pred)\n",
    "\n",
    "print(f\"  Model trained successfully!\")\n",
    "print(f\"  Test MAE: {eff_mae:.3f}%\")\n",
    "print(f\"  Test R² Score: {eff_r2:.3f}\\n\")"
   ]
  },
  {
   "cell_type": "code",
   "execution_count": 21,
   "id": "b7e97048-41bf-48a6-9a29-e526b6d8c74e",
   "metadata": {},
   "outputs": [],
   "source": [
    "# Defining Prediction Functions which uses trained models\n",
    "\n",
    "def predict_hydrogen_output(energy_kw, temperature_c, solar_kw=0, wind_kw=0, tank_level=70):\n",
    "    \"\"\"\n",
    "    Predict hydrogen output using trained XGBoost model\n",
    "    \"\"\"\n",
    "    input_data = pd.DataFrame({\n",
    "        'energy_input_kw': [energy_kw],\n",
    "        'temperature_c': [temperature_c],\n",
    "        'solar_generation_kw': [solar_kw],\n",
    "        'wind_generation_kw': [wind_kw],\n",
    "        'tank_level_pct': [tank_level]\n",
    "    })\n",
    "    prediction = model_hydrogen.predict(input_data)[0]\n",
    "    return round(prediction, 2)\n",
    "\n",
    "def predict_efficiency(energy_kw, temperature_c, solar_kw=0, wind_kw=0, tank_level=70):\n",
    "    \"\"\"\n",
    "    Predict system efficiency using trained XGBoost model\n",
    "    \"\"\"\n",
    "    input_data = pd.DataFrame({\n",
    "        'energy_input_kw': [energy_kw],\n",
    "        'temperature_c': [temperature_c],\n",
    "        'solar_generation_kw': [solar_kw],\n",
    "        'wind_generation_kw': [wind_kw],\n",
    "        'tank_level_pct': [tank_level]\n",
    "    })\n",
    "    prediction = model_efficiency.predict(input_data)[0]\n",
    "    return round(prediction, 2)"
   ]
  },
  {
   "cell_type": "code",
   "execution_count": 22,
   "id": "3f305b34-13e1-42c5-a1c8-f42e1f55c0da",
   "metadata": {},
   "outputs": [
    {
     "name": "stdout",
     "output_type": "stream",
     "text": [
      "\n",
      "Input Parameters:\n",
      "  Energy: 480 kW\n",
      "  Temperature: 20°C\n",
      "  Solar Generation: 150 kW\n",
      "  Wind Generation: 80 kW\n",
      "  Tank Level: 65%\n",
      "\n",
      "Predictions:\n",
      "  Predicted H₂ Output: 19.3700008392334 kg/hr\n",
      "  Predicted Efficiency: 58.27000045776367%\n"
     ]
    }
   ],
   "source": [
    "# Testing our model on random user data \n",
    "\n",
    "test_energy = 480\n",
    "test_temp = 20\n",
    "test_solar = 150\n",
    "test_wind = 80\n",
    "test_tank = 65\n",
    "\n",
    "predicted_h2 = predict_hydrogen_output(test_energy, test_temp, test_solar, test_wind, test_tank)\n",
    "predicted_eff = predict_efficiency(test_energy, test_temp, test_solar, test_wind, test_tank)\n",
    "\n",
    "print(f\"\\nInput Parameters:\")\n",
    "print(f\"  Energy: {test_energy} kW\")\n",
    "print(f\"  Temperature: {test_temp}°C\")\n",
    "print(f\"  Solar Generation: {test_solar} kW\")\n",
    "print(f\"  Wind Generation: {test_wind} kW\")\n",
    "print(f\"  Tank Level: {test_tank}%\")\n",
    "print(f\"\\nPredictions:\")\n",
    "print(f\"  Predicted H₂ Output: {predicted_h2} kg/hr\")\n",
    "print(f\"  Predicted Efficiency: {predicted_eff}%\")"
   ]
  },
  {
   "cell_type": "code",
   "execution_count": 23,
   "id": "33623fdc-1c14-4f62-ba59-e23afbbc1419",
   "metadata": {},
   "outputs": [
    {
     "name": "stdout",
     "output_type": "stream",
     "text": [
      "📋 Current operating dataframe initialized\n",
      "Shape: (24, 10)\n"
     ]
    },
    {
     "data": {
      "text/html": [
       "<div>\n",
       "<style scoped>\n",
       "    .dataframe tbody tr th:only-of-type {\n",
       "        vertical-align: middle;\n",
       "    }\n",
       "\n",
       "    .dataframe tbody tr th {\n",
       "        vertical-align: top;\n",
       "    }\n",
       "\n",
       "    .dataframe thead th {\n",
       "        text-align: right;\n",
       "    }\n",
       "</style>\n",
       "<table border=\"1\" class=\"dataframe\">\n",
       "  <thead>\n",
       "    <tr style=\"text-align: right;\">\n",
       "      <th></th>\n",
       "      <th>timestamp</th>\n",
       "      <th>energy_input_kw</th>\n",
       "      <th>temperature_c</th>\n",
       "      <th>solar_generation_kw</th>\n",
       "      <th>wind_generation_kw</th>\n",
       "      <th>tank_level_pct</th>\n",
       "      <th>hydrogen_output_kg_hr</th>\n",
       "      <th>predicted_hydrogen_kg_hr</th>\n",
       "      <th>efficiency_pct</th>\n",
       "      <th>predicted_efficiency_pct</th>\n",
       "    </tr>\n",
       "  </thead>\n",
       "  <tbody>\n",
       "    <tr>\n",
       "      <th>0</th>\n",
       "      <td>2025-10-13 00:00:00</td>\n",
       "      <td>0.0</td>\n",
       "      <td>0.0</td>\n",
       "      <td>0.0</td>\n",
       "      <td>0.0</td>\n",
       "      <td>0.0</td>\n",
       "      <td>0.0</td>\n",
       "      <td>0.0</td>\n",
       "      <td>0.0</td>\n",
       "      <td>0.0</td>\n",
       "    </tr>\n",
       "    <tr>\n",
       "      <th>1</th>\n",
       "      <td>2025-10-13 01:00:00</td>\n",
       "      <td>0.0</td>\n",
       "      <td>0.0</td>\n",
       "      <td>0.0</td>\n",
       "      <td>0.0</td>\n",
       "      <td>0.0</td>\n",
       "      <td>0.0</td>\n",
       "      <td>0.0</td>\n",
       "      <td>0.0</td>\n",
       "      <td>0.0</td>\n",
       "    </tr>\n",
       "    <tr>\n",
       "      <th>2</th>\n",
       "      <td>2025-10-13 02:00:00</td>\n",
       "      <td>0.0</td>\n",
       "      <td>0.0</td>\n",
       "      <td>0.0</td>\n",
       "      <td>0.0</td>\n",
       "      <td>0.0</td>\n",
       "      <td>0.0</td>\n",
       "      <td>0.0</td>\n",
       "      <td>0.0</td>\n",
       "      <td>0.0</td>\n",
       "    </tr>\n",
       "    <tr>\n",
       "      <th>3</th>\n",
       "      <td>2025-10-13 03:00:00</td>\n",
       "      <td>0.0</td>\n",
       "      <td>0.0</td>\n",
       "      <td>0.0</td>\n",
       "      <td>0.0</td>\n",
       "      <td>0.0</td>\n",
       "      <td>0.0</td>\n",
       "      <td>0.0</td>\n",
       "      <td>0.0</td>\n",
       "      <td>0.0</td>\n",
       "    </tr>\n",
       "    <tr>\n",
       "      <th>4</th>\n",
       "      <td>2025-10-13 04:00:00</td>\n",
       "      <td>0.0</td>\n",
       "      <td>0.0</td>\n",
       "      <td>0.0</td>\n",
       "      <td>0.0</td>\n",
       "      <td>0.0</td>\n",
       "      <td>0.0</td>\n",
       "      <td>0.0</td>\n",
       "      <td>0.0</td>\n",
       "      <td>0.0</td>\n",
       "    </tr>\n",
       "  </tbody>\n",
       "</table>\n",
       "</div>"
      ],
      "text/plain": [
       "            timestamp  energy_input_kw  temperature_c  solar_generation_kw  \\\n",
       "0 2025-10-13 00:00:00              0.0            0.0                  0.0   \n",
       "1 2025-10-13 01:00:00              0.0            0.0                  0.0   \n",
       "2 2025-10-13 02:00:00              0.0            0.0                  0.0   \n",
       "3 2025-10-13 03:00:00              0.0            0.0                  0.0   \n",
       "4 2025-10-13 04:00:00              0.0            0.0                  0.0   \n",
       "\n",
       "   wind_generation_kw  tank_level_pct  hydrogen_output_kg_hr  \\\n",
       "0                 0.0             0.0                    0.0   \n",
       "1                 0.0             0.0                    0.0   \n",
       "2                 0.0             0.0                    0.0   \n",
       "3                 0.0             0.0                    0.0   \n",
       "4                 0.0             0.0                    0.0   \n",
       "\n",
       "   predicted_hydrogen_kg_hr  efficiency_pct  predicted_efficiency_pct  \n",
       "0                       0.0             0.0                       0.0  \n",
       "1                       0.0             0.0                       0.0  \n",
       "2                       0.0             0.0                       0.0  \n",
       "3                       0.0             0.0                       0.0  \n",
       "4                       0.0             0.0                       0.0  "
      ]
     },
     "metadata": {},
     "output_type": "display_data"
    }
   ],
   "source": [
    "# Initialize current operating data (simulating real-time system)\n",
    "current_operating_data = pd.DataFrame({\n",
    "    'timestamp': pd.date_range(start='2025-10-13 00:00', periods=24, freq='H'),\n",
    "    'energy_input_kw': np.zeros(24),\n",
    "    'temperature_c': np.zeros(24),\n",
    "    'solar_generation_kw': np.zeros(24),\n",
    "    'wind_generation_kw': np.zeros(24),\n",
    "    'tank_level_pct': np.zeros(24),\n",
    "    'hydrogen_output_kg_hr': np.zeros(24),\n",
    "    'predicted_hydrogen_kg_hr': np.zeros(24),\n",
    "    'efficiency_pct': np.zeros(24),\n",
    "    'predicted_efficiency_pct': np.zeros(24)\n",
    "})\n",
    "\n",
    "print(\"📋 Current operating dataframe initialized\")\n",
    "print(f\"Shape: {current_operating_data.shape}\")\n",
    "display(current_operating_data.head())"
   ]
  },
  {
   "cell_type": "code",
   "execution_count": 24,
   "id": "3f767a2a-934f-4d88-b435-442f22d3c67d",
   "metadata": {},
   "outputs": [
    {
     "name": "stdout",
     "output_type": "stream",
     "text": [
      " Live Data Simulator Ready!\n",
      "\n",
      "Sample reading:\n",
      "  energy_input_kw: 539.58\n",
      "  temperature_c: 25.44\n",
      "  solar_generation_kw: 137.87\n",
      "  wind_generation_kw: 50.04\n",
      "  tank_level_pct: 75.06\n",
      "  hydrogen_output_kg_hr: 20.979999542236328\n",
      "  predicted_hydrogen_kg_hr: 20.6200008392334\n",
      "  efficiency_pct: 60.18\n",
      "  predicted_efficiency_pct: 62.25\n"
     ]
    }
   ],
   "source": [
    "# Live Data Simulation Function\n",
    "\n",
    "# Simulate one live sensor reading from the hydrogen system\n",
    "# Returns a dictionary with current readings\n",
    "\n",
    "def simulate_live_reading():\n",
    "    reading = {\n",
    "        'energy_input_kw': round(np.random.normal(450, 50), 2),\n",
    "        'temperature_c': round(np.random.normal(15, 5), 2),\n",
    "        'solar_generation_kw': max(0, round(np.random.gamma(2, 50), 2)),\n",
    "        'wind_generation_kw': max(0, round(np.random.gamma(2, 30), 2)),\n",
    "        'tank_level_pct': round(np.random.uniform(40, 90), 2)\n",
    "    }\n",
    "    \n",
    "    # Calculate actual output with some noise\n",
    "    reading['hydrogen_output_kg_hr'] = round(\n",
    "        predict_hydrogen_output(\n",
    "            reading['energy_input_kw'], \n",
    "            reading['temperature_c']\n",
    "        ) * np.random.uniform(0.97, 1.03),\n",
    "        2\n",
    "    )\n",
    "    \n",
    "    # Add predictions\n",
    "    reading['predicted_hydrogen_kg_hr'] = predict_hydrogen_output(\n",
    "        reading['energy_input_kw'], \n",
    "        reading['temperature_c']\n",
    "    )\n",
    "    \n",
    "    reading['efficiency_pct'] = round(\n",
    "    55 \n",
    "    + 0.06 * (reading['energy_input_kw'] - 400)\n",
    "    - 0.25 * abs(reading['temperature_c'] - 25)\n",
    "    + np.random.normal(0, 2),\n",
    "    2\n",
    "    )\n",
    "    reading['efficiency_pct'] = max(45, min(85, reading['efficiency_pct']))\n",
    "\n",
    "    reading['predicted_efficiency_pct'] = predict_efficiency(\n",
    "        reading['energy_input_kw'],\n",
    "        reading['temperature_c'],\n",
    "        reading['tank_level_pct']\n",
    "    )\n",
    "    \n",
    "    return reading\n",
    "\n",
    "# Test the simulator\n",
    "test_reading = simulate_live_reading()\n",
    "print(\" Live Data Simulator Ready!\")\n",
    "print(\"\\nSample reading:\")\n",
    "for key, value in test_reading.items():\n",
    "    print(f\"  {key}: {value}\")\n"
   ]
  },
  {
   "cell_type": "code",
   "execution_count": 25,
   "id": "7ef9f43d-3b56-4e48-a941-0081f428f8cd",
   "metadata": {},
   "outputs": [],
   "source": [
    "# Live Dashboard Charts function \n",
    "\n",
    "def create_live_dashboard(df, num_points=10):\n",
    "    \"\"\"\n",
    "    Create interactive dashboard with multiple charts\n",
    "    Shows last 'num_points' data points\n",
    "    \"\"\"\n",
    "    # Filter to last N points\n",
    "    df_plot = df.tail(num_points).copy()\n",
    "    \n",
    "    # Create subplots\n",
    "    fig = make_subplots(\n",
    "        rows=2, cols=2,\n",
    "        subplot_titles=(\n",
    "            'Hydrogen Output (Actual vs Predicted)',\n",
    "            'System Efficiency',\n",
    "            'Energy Sources',\n",
    "            'Tank Level'\n",
    "        ),\n",
    "        specs=[[{\"secondary_y\": False}, {\"secondary_y\": False}],\n",
    "               [{\"secondary_y\": False}, {\"secondary_y\": False}]]\n",
    "    )\n",
    "    \n",
    "    # Chart 1: Hydrogen Output\n",
    "    fig.add_trace(\n",
    "        go.Scatter(x=df_plot['timestamp'], y=df_plot['hydrogen_output_kg_hr'],\n",
    "                   name='Actual Output', line=dict(color='blue', width=3)),\n",
    "        row=1, col=1\n",
    "    )\n",
    "    fig.add_trace(\n",
    "        go.Scatter(x=df_plot['timestamp'], y=df_plot['predicted_hydrogen_kg_hr'],\n",
    "                   name='Predicted Output', line=dict(color='red', dash='dash')),\n",
    "        row=1, col=1\n",
    "    )\n",
    "    \n",
    "    # Chart 2: Efficiency\n",
    "    fig.add_trace(\n",
    "        go.Scatter(x=df_plot['timestamp'], y=df_plot['efficiency_pct'],\n",
    "                   name='Actual Efficiency', line=dict(color='green', width=3)),\n",
    "        row=1, col=2\n",
    "    )\n",
    "    fig.add_trace(\n",
    "        go.Scatter(x=df_plot['timestamp'], y=df_plot['predicted_efficiency_pct'],\n",
    "                   name='Predicted Efficiency', line=dict(color='orange', dash='dash')),\n",
    "        row=1, col=2\n",
    "    )\n",
    "    \n",
    "    # Chart 3: Energy Sources\n",
    "    fig.add_trace(\n",
    "        go.Bar(x=df_plot['timestamp'], y=df_plot['solar_generation_kw'],\n",
    "               name='Solar', marker_color='gold'),\n",
    "        row=2, col=1\n",
    "    )\n",
    "    fig.add_trace(\n",
    "        go.Bar(x=df_plot['timestamp'], y=df_plot['wind_generation_kw'],\n",
    "               name='Wind', marker_color='lightblue'),\n",
    "        row=2, col=1\n",
    "    )\n",
    "    \n",
    "    # Chart 4: Tank Level\n",
    "    fig.add_trace(\n",
    "        go.Scatter(x=df_plot['timestamp'], y=df_plot['tank_level_pct'],\n",
    "                   name='Tank Level', fill='tozeroy',\n",
    "                   line=dict(color='purple', width=2)),\n",
    "        row=2, col=2\n",
    "    )\n",
    "    \n",
    "    # Update layout\n",
    "    fig.update_xaxes(title_text=\"Time\", row=1, col=1)\n",
    "    fig.update_xaxes(title_text=\"Time\", row=1, col=2)\n",
    "    fig.update_xaxes(title_text=\"Time\", row=2, col=1)\n",
    "    fig.update_xaxes(title_text=\"Time\", row=2, col=2)\n",
    "    \n",
    "    fig.update_yaxes(title_text=\"kg/hr\", row=1, col=1)\n",
    "    fig.update_yaxes(title_text=\"%\", row=1, col=2)\n",
    "    fig.update_yaxes(title_text=\"kW\", row=2, col=1)\n",
    "    fig.update_yaxes(title_text=\"%\", row=2, col=2)\n",
    "    \n",
    "    fig.update_layout(height=700, showlegend=True, title_text=\"Hydrogen System Live Dashboard\")\n",
    "    \n",
    "    return fig"
   ]
  },
  {
   "cell_type": "code",
   "execution_count": 29,
   "id": "6314b746-0ec8-4c37-b0ea-6dda998f1b16",
   "metadata": {},
   "outputs": [
    {
     "name": "stdout",
     "output_type": "stream",
     "text": [
      "⏱️  Iteration 10/10\n",
      "Current H₂ Output: 17.8799991607666 kg/hr\n",
      "Predicted H₂ Output: 18.420000076293945 kg/hr\n",
      "Efficiency: 56.55%\n",
      "\n"
     ]
    },
    {
     "data": {
      "application/vnd.plotly.v1+json": {
       "config": {
        "plotlyServerURL": "https://plot.ly"
       },
       "data": [
        {
         "line": {
          "color": "blue",
          "width": 3
         },
         "name": "Actual Output",
         "type": "scatter",
         "x": [
          "2025-10-13T18:07:58.062129",
          "2025-10-13T18:08:00.287477",
          "2025-10-13T18:08:02.462463",
          "2025-10-13T18:08:04.548355",
          "2025-10-13T18:08:06.630931",
          "2025-10-13T18:08:08.719726",
          "2025-10-13T18:08:10.841640",
          "2025-10-13T18:08:12.955774",
          "2025-10-13T18:08:15.039853",
          "2025-10-13T18:08:17.173262"
         ],
         "xaxis": "x",
         "y": [
          16.5,
          18.25,
          15.49,
          20.54,
          19.85,
          17.24,
          16.75,
          20.67,
          17.92,
          17.88
         ],
         "yaxis": "y"
        },
        {
         "line": {
          "color": "red",
          "dash": "dash"
         },
         "name": "Predicted Output",
         "type": "scatter",
         "x": [
          "2025-10-13T18:07:58.062129",
          "2025-10-13T18:08:00.287477",
          "2025-10-13T18:08:02.462463",
          "2025-10-13T18:08:04.548355",
          "2025-10-13T18:08:06.630931",
          "2025-10-13T18:08:08.719726",
          "2025-10-13T18:08:10.841640",
          "2025-10-13T18:08:12.955774",
          "2025-10-13T18:08:15.039853",
          "2025-10-13T18:08:17.173262"
         ],
         "xaxis": "x",
         "y": [
          16.13,
          18.11,
          15.94,
          21.16,
          19.67,
          17.71,
          16.52,
          20.78,
          17.99,
          18.42
         ],
         "yaxis": "y"
        },
        {
         "line": {
          "color": "green",
          "width": 3
         },
         "name": "Actual Efficiency",
         "type": "scatter",
         "x": [
          "2025-10-13T18:07:58.062129",
          "2025-10-13T18:08:00.287477",
          "2025-10-13T18:08:02.462463",
          "2025-10-13T18:08:04.548355",
          "2025-10-13T18:08:06.630931",
          "2025-10-13T18:08:08.719726",
          "2025-10-13T18:08:10.841640",
          "2025-10-13T18:08:12.955774",
          "2025-10-13T18:08:15.039853",
          "2025-10-13T18:08:17.173262"
         ],
         "xaxis": "x2",
         "y": [
          51.4,
          53.71,
          53.18,
          58.02,
          62.71,
          51.78,
          54.64,
          59.39,
          57.57,
          56.55
         ],
         "yaxis": "y2"
        },
        {
         "line": {
          "color": "orange",
          "dash": "dash"
         },
         "name": "Predicted Efficiency",
         "type": "scatter",
         "x": [
          "2025-10-13T18:07:58.062129",
          "2025-10-13T18:08:00.287477",
          "2025-10-13T18:08:02.462463",
          "2025-10-13T18:08:04.548355",
          "2025-10-13T18:08:06.630931",
          "2025-10-13T18:08:08.719726",
          "2025-10-13T18:08:10.841640",
          "2025-10-13T18:08:12.955774",
          "2025-10-13T18:08:15.039853",
          "2025-10-13T18:08:17.173262"
         ],
         "xaxis": "x2",
         "y": [
          51.55,
          54.32,
          49.91,
          56.83,
          58.1,
          51.7,
          52.33,
          57.62,
          54.24,
          53.59
         ],
         "yaxis": "y2"
        },
        {
         "marker": {
          "color": "gold"
         },
         "name": "Solar",
         "type": "bar",
         "x": [
          "2025-10-13T18:07:58.062129",
          "2025-10-13T18:08:00.287477",
          "2025-10-13T18:08:02.462463",
          "2025-10-13T18:08:04.548355",
          "2025-10-13T18:08:06.630931",
          "2025-10-13T18:08:08.719726",
          "2025-10-13T18:08:10.841640",
          "2025-10-13T18:08:12.955774",
          "2025-10-13T18:08:15.039853",
          "2025-10-13T18:08:17.173262"
         ],
         "xaxis": "x3",
         "y": [
          38.73,
          43.2,
          52.76,
          86.19,
          69.92,
          139.4,
          17.64,
          73.31,
          27.08,
          113.24
         ],
         "yaxis": "y3"
        },
        {
         "marker": {
          "color": "lightblue"
         },
         "name": "Wind",
         "type": "bar",
         "x": [
          "2025-10-13T18:07:58.062129",
          "2025-10-13T18:08:00.287477",
          "2025-10-13T18:08:02.462463",
          "2025-10-13T18:08:04.548355",
          "2025-10-13T18:08:06.630931",
          "2025-10-13T18:08:08.719726",
          "2025-10-13T18:08:10.841640",
          "2025-10-13T18:08:12.955774",
          "2025-10-13T18:08:15.039853",
          "2025-10-13T18:08:17.173262"
         ],
         "xaxis": "x3",
         "y": [
          11,
          58.6,
          20.33,
          96.91,
          121.06,
          69.46,
          6.22,
          68.97,
          21.92,
          110.19
         ],
         "yaxis": "y3"
        },
        {
         "fill": "tozeroy",
         "line": {
          "color": "purple",
          "width": 2
         },
         "name": "Tank Level",
         "type": "scatter",
         "x": [
          "2025-10-13T18:07:58.062129",
          "2025-10-13T18:08:00.287477",
          "2025-10-13T18:08:02.462463",
          "2025-10-13T18:08:04.548355",
          "2025-10-13T18:08:06.630931",
          "2025-10-13T18:08:08.719726",
          "2025-10-13T18:08:10.841640",
          "2025-10-13T18:08:12.955774",
          "2025-10-13T18:08:15.039853",
          "2025-10-13T18:08:17.173262"
         ],
         "xaxis": "x4",
         "y": [
          53.1,
          72.97,
          56.71,
          83.96,
          61.44,
          51.15,
          60.59,
          50.02,
          68.42,
          45.92
         ],
         "yaxis": "y4"
        }
       ],
       "layout": {
        "annotations": [
         {
          "font": {
           "size": 16
          },
          "showarrow": false,
          "text": "Hydrogen Output (Actual vs Predicted)",
          "x": 0.225,
          "xanchor": "center",
          "xref": "paper",
          "y": 1,
          "yanchor": "bottom",
          "yref": "paper"
         },
         {
          "font": {
           "size": 16
          },
          "showarrow": false,
          "text": "System Efficiency",
          "x": 0.775,
          "xanchor": "center",
          "xref": "paper",
          "y": 1,
          "yanchor": "bottom",
          "yref": "paper"
         },
         {
          "font": {
           "size": 16
          },
          "showarrow": false,
          "text": "Energy Sources",
          "x": 0.225,
          "xanchor": "center",
          "xref": "paper",
          "y": 0.375,
          "yanchor": "bottom",
          "yref": "paper"
         },
         {
          "font": {
           "size": 16
          },
          "showarrow": false,
          "text": "Tank Level",
          "x": 0.775,
          "xanchor": "center",
          "xref": "paper",
          "y": 0.375,
          "yanchor": "bottom",
          "yref": "paper"
         }
        ],
        "height": 700,
        "showlegend": true,
        "template": {
         "data": {
          "bar": [
           {
            "error_x": {
             "color": "#2a3f5f"
            },
            "error_y": {
             "color": "#2a3f5f"
            },
            "marker": {
             "line": {
              "color": "#E5ECF6",
              "width": 0.5
             },
             "pattern": {
              "fillmode": "overlay",
              "size": 10,
              "solidity": 0.2
             }
            },
            "type": "bar"
           }
          ],
          "barpolar": [
           {
            "marker": {
             "line": {
              "color": "#E5ECF6",
              "width": 0.5
             },
             "pattern": {
              "fillmode": "overlay",
              "size": 10,
              "solidity": 0.2
             }
            },
            "type": "barpolar"
           }
          ],
          "carpet": [
           {
            "aaxis": {
             "endlinecolor": "#2a3f5f",
             "gridcolor": "white",
             "linecolor": "white",
             "minorgridcolor": "white",
             "startlinecolor": "#2a3f5f"
            },
            "baxis": {
             "endlinecolor": "#2a3f5f",
             "gridcolor": "white",
             "linecolor": "white",
             "minorgridcolor": "white",
             "startlinecolor": "#2a3f5f"
            },
            "type": "carpet"
           }
          ],
          "choropleth": [
           {
            "colorbar": {
             "outlinewidth": 0,
             "ticks": ""
            },
            "type": "choropleth"
           }
          ],
          "contour": [
           {
            "colorbar": {
             "outlinewidth": 0,
             "ticks": ""
            },
            "colorscale": [
             [
              0,
              "#0d0887"
             ],
             [
              0.1111111111111111,
              "#46039f"
             ],
             [
              0.2222222222222222,
              "#7201a8"
             ],
             [
              0.3333333333333333,
              "#9c179e"
             ],
             [
              0.4444444444444444,
              "#bd3786"
             ],
             [
              0.5555555555555556,
              "#d8576b"
             ],
             [
              0.6666666666666666,
              "#ed7953"
             ],
             [
              0.7777777777777778,
              "#fb9f3a"
             ],
             [
              0.8888888888888888,
              "#fdca26"
             ],
             [
              1,
              "#f0f921"
             ]
            ],
            "type": "contour"
           }
          ],
          "contourcarpet": [
           {
            "colorbar": {
             "outlinewidth": 0,
             "ticks": ""
            },
            "type": "contourcarpet"
           }
          ],
          "heatmap": [
           {
            "colorbar": {
             "outlinewidth": 0,
             "ticks": ""
            },
            "colorscale": [
             [
              0,
              "#0d0887"
             ],
             [
              0.1111111111111111,
              "#46039f"
             ],
             [
              0.2222222222222222,
              "#7201a8"
             ],
             [
              0.3333333333333333,
              "#9c179e"
             ],
             [
              0.4444444444444444,
              "#bd3786"
             ],
             [
              0.5555555555555556,
              "#d8576b"
             ],
             [
              0.6666666666666666,
              "#ed7953"
             ],
             [
              0.7777777777777778,
              "#fb9f3a"
             ],
             [
              0.8888888888888888,
              "#fdca26"
             ],
             [
              1,
              "#f0f921"
             ]
            ],
            "type": "heatmap"
           }
          ],
          "heatmapgl": [
           {
            "colorbar": {
             "outlinewidth": 0,
             "ticks": ""
            },
            "colorscale": [
             [
              0,
              "#0d0887"
             ],
             [
              0.1111111111111111,
              "#46039f"
             ],
             [
              0.2222222222222222,
              "#7201a8"
             ],
             [
              0.3333333333333333,
              "#9c179e"
             ],
             [
              0.4444444444444444,
              "#bd3786"
             ],
             [
              0.5555555555555556,
              "#d8576b"
             ],
             [
              0.6666666666666666,
              "#ed7953"
             ],
             [
              0.7777777777777778,
              "#fb9f3a"
             ],
             [
              0.8888888888888888,
              "#fdca26"
             ],
             [
              1,
              "#f0f921"
             ]
            ],
            "type": "heatmapgl"
           }
          ],
          "histogram": [
           {
            "marker": {
             "pattern": {
              "fillmode": "overlay",
              "size": 10,
              "solidity": 0.2
             }
            },
            "type": "histogram"
           }
          ],
          "histogram2d": [
           {
            "colorbar": {
             "outlinewidth": 0,
             "ticks": ""
            },
            "colorscale": [
             [
              0,
              "#0d0887"
             ],
             [
              0.1111111111111111,
              "#46039f"
             ],
             [
              0.2222222222222222,
              "#7201a8"
             ],
             [
              0.3333333333333333,
              "#9c179e"
             ],
             [
              0.4444444444444444,
              "#bd3786"
             ],
             [
              0.5555555555555556,
              "#d8576b"
             ],
             [
              0.6666666666666666,
              "#ed7953"
             ],
             [
              0.7777777777777778,
              "#fb9f3a"
             ],
             [
              0.8888888888888888,
              "#fdca26"
             ],
             [
              1,
              "#f0f921"
             ]
            ],
            "type": "histogram2d"
           }
          ],
          "histogram2dcontour": [
           {
            "colorbar": {
             "outlinewidth": 0,
             "ticks": ""
            },
            "colorscale": [
             [
              0,
              "#0d0887"
             ],
             [
              0.1111111111111111,
              "#46039f"
             ],
             [
              0.2222222222222222,
              "#7201a8"
             ],
             [
              0.3333333333333333,
              "#9c179e"
             ],
             [
              0.4444444444444444,
              "#bd3786"
             ],
             [
              0.5555555555555556,
              "#d8576b"
             ],
             [
              0.6666666666666666,
              "#ed7953"
             ],
             [
              0.7777777777777778,
              "#fb9f3a"
             ],
             [
              0.8888888888888888,
              "#fdca26"
             ],
             [
              1,
              "#f0f921"
             ]
            ],
            "type": "histogram2dcontour"
           }
          ],
          "mesh3d": [
           {
            "colorbar": {
             "outlinewidth": 0,
             "ticks": ""
            },
            "type": "mesh3d"
           }
          ],
          "parcoords": [
           {
            "line": {
             "colorbar": {
              "outlinewidth": 0,
              "ticks": ""
             }
            },
            "type": "parcoords"
           }
          ],
          "pie": [
           {
            "automargin": true,
            "type": "pie"
           }
          ],
          "scatter": [
           {
            "fillpattern": {
             "fillmode": "overlay",
             "size": 10,
             "solidity": 0.2
            },
            "type": "scatter"
           }
          ],
          "scatter3d": [
           {
            "line": {
             "colorbar": {
              "outlinewidth": 0,
              "ticks": ""
             }
            },
            "marker": {
             "colorbar": {
              "outlinewidth": 0,
              "ticks": ""
             }
            },
            "type": "scatter3d"
           }
          ],
          "scattercarpet": [
           {
            "marker": {
             "colorbar": {
              "outlinewidth": 0,
              "ticks": ""
             }
            },
            "type": "scattercarpet"
           }
          ],
          "scattergeo": [
           {
            "marker": {
             "colorbar": {
              "outlinewidth": 0,
              "ticks": ""
             }
            },
            "type": "scattergeo"
           }
          ],
          "scattergl": [
           {
            "marker": {
             "colorbar": {
              "outlinewidth": 0,
              "ticks": ""
             }
            },
            "type": "scattergl"
           }
          ],
          "scattermapbox": [
           {
            "marker": {
             "colorbar": {
              "outlinewidth": 0,
              "ticks": ""
             }
            },
            "type": "scattermapbox"
           }
          ],
          "scatterpolar": [
           {
            "marker": {
             "colorbar": {
              "outlinewidth": 0,
              "ticks": ""
             }
            },
            "type": "scatterpolar"
           }
          ],
          "scatterpolargl": [
           {
            "marker": {
             "colorbar": {
              "outlinewidth": 0,
              "ticks": ""
             }
            },
            "type": "scatterpolargl"
           }
          ],
          "scatterternary": [
           {
            "marker": {
             "colorbar": {
              "outlinewidth": 0,
              "ticks": ""
             }
            },
            "type": "scatterternary"
           }
          ],
          "surface": [
           {
            "colorbar": {
             "outlinewidth": 0,
             "ticks": ""
            },
            "colorscale": [
             [
              0,
              "#0d0887"
             ],
             [
              0.1111111111111111,
              "#46039f"
             ],
             [
              0.2222222222222222,
              "#7201a8"
             ],
             [
              0.3333333333333333,
              "#9c179e"
             ],
             [
              0.4444444444444444,
              "#bd3786"
             ],
             [
              0.5555555555555556,
              "#d8576b"
             ],
             [
              0.6666666666666666,
              "#ed7953"
             ],
             [
              0.7777777777777778,
              "#fb9f3a"
             ],
             [
              0.8888888888888888,
              "#fdca26"
             ],
             [
              1,
              "#f0f921"
             ]
            ],
            "type": "surface"
           }
          ],
          "table": [
           {
            "cells": {
             "fill": {
              "color": "#EBF0F8"
             },
             "line": {
              "color": "white"
             }
            },
            "header": {
             "fill": {
              "color": "#C8D4E3"
             },
             "line": {
              "color": "white"
             }
            },
            "type": "table"
           }
          ]
         },
         "layout": {
          "annotationdefaults": {
           "arrowcolor": "#2a3f5f",
           "arrowhead": 0,
           "arrowwidth": 1
          },
          "autotypenumbers": "strict",
          "coloraxis": {
           "colorbar": {
            "outlinewidth": 0,
            "ticks": ""
           }
          },
          "colorscale": {
           "diverging": [
            [
             0,
             "#8e0152"
            ],
            [
             0.1,
             "#c51b7d"
            ],
            [
             0.2,
             "#de77ae"
            ],
            [
             0.3,
             "#f1b6da"
            ],
            [
             0.4,
             "#fde0ef"
            ],
            [
             0.5,
             "#f7f7f7"
            ],
            [
             0.6,
             "#e6f5d0"
            ],
            [
             0.7,
             "#b8e186"
            ],
            [
             0.8,
             "#7fbc41"
            ],
            [
             0.9,
             "#4d9221"
            ],
            [
             1,
             "#276419"
            ]
           ],
           "sequential": [
            [
             0,
             "#0d0887"
            ],
            [
             0.1111111111111111,
             "#46039f"
            ],
            [
             0.2222222222222222,
             "#7201a8"
            ],
            [
             0.3333333333333333,
             "#9c179e"
            ],
            [
             0.4444444444444444,
             "#bd3786"
            ],
            [
             0.5555555555555556,
             "#d8576b"
            ],
            [
             0.6666666666666666,
             "#ed7953"
            ],
            [
             0.7777777777777778,
             "#fb9f3a"
            ],
            [
             0.8888888888888888,
             "#fdca26"
            ],
            [
             1,
             "#f0f921"
            ]
           ],
           "sequentialminus": [
            [
             0,
             "#0d0887"
            ],
            [
             0.1111111111111111,
             "#46039f"
            ],
            [
             0.2222222222222222,
             "#7201a8"
            ],
            [
             0.3333333333333333,
             "#9c179e"
            ],
            [
             0.4444444444444444,
             "#bd3786"
            ],
            [
             0.5555555555555556,
             "#d8576b"
            ],
            [
             0.6666666666666666,
             "#ed7953"
            ],
            [
             0.7777777777777778,
             "#fb9f3a"
            ],
            [
             0.8888888888888888,
             "#fdca26"
            ],
            [
             1,
             "#f0f921"
            ]
           ]
          },
          "colorway": [
           "#636efa",
           "#EF553B",
           "#00cc96",
           "#ab63fa",
           "#FFA15A",
           "#19d3f3",
           "#FF6692",
           "#B6E880",
           "#FF97FF",
           "#FECB52"
          ],
          "font": {
           "color": "#2a3f5f"
          },
          "geo": {
           "bgcolor": "white",
           "lakecolor": "white",
           "landcolor": "#E5ECF6",
           "showlakes": true,
           "showland": true,
           "subunitcolor": "white"
          },
          "hoverlabel": {
           "align": "left"
          },
          "hovermode": "closest",
          "mapbox": {
           "style": "light"
          },
          "paper_bgcolor": "white",
          "plot_bgcolor": "#E5ECF6",
          "polar": {
           "angularaxis": {
            "gridcolor": "white",
            "linecolor": "white",
            "ticks": ""
           },
           "bgcolor": "#E5ECF6",
           "radialaxis": {
            "gridcolor": "white",
            "linecolor": "white",
            "ticks": ""
           }
          },
          "scene": {
           "xaxis": {
            "backgroundcolor": "#E5ECF6",
            "gridcolor": "white",
            "gridwidth": 2,
            "linecolor": "white",
            "showbackground": true,
            "ticks": "",
            "zerolinecolor": "white"
           },
           "yaxis": {
            "backgroundcolor": "#E5ECF6",
            "gridcolor": "white",
            "gridwidth": 2,
            "linecolor": "white",
            "showbackground": true,
            "ticks": "",
            "zerolinecolor": "white"
           },
           "zaxis": {
            "backgroundcolor": "#E5ECF6",
            "gridcolor": "white",
            "gridwidth": 2,
            "linecolor": "white",
            "showbackground": true,
            "ticks": "",
            "zerolinecolor": "white"
           }
          },
          "shapedefaults": {
           "line": {
            "color": "#2a3f5f"
           }
          },
          "ternary": {
           "aaxis": {
            "gridcolor": "white",
            "linecolor": "white",
            "ticks": ""
           },
           "baxis": {
            "gridcolor": "white",
            "linecolor": "white",
            "ticks": ""
           },
           "bgcolor": "#E5ECF6",
           "caxis": {
            "gridcolor": "white",
            "linecolor": "white",
            "ticks": ""
           }
          },
          "title": {
           "x": 0.05
          },
          "xaxis": {
           "automargin": true,
           "gridcolor": "white",
           "linecolor": "white",
           "ticks": "",
           "title": {
            "standoff": 15
           },
           "zerolinecolor": "white",
           "zerolinewidth": 2
          },
          "yaxis": {
           "automargin": true,
           "gridcolor": "white",
           "linecolor": "white",
           "ticks": "",
           "title": {
            "standoff": 15
           },
           "zerolinecolor": "white",
           "zerolinewidth": 2
          }
         }
        },
        "title": {
         "text": "Hydrogen System Live Dashboard"
        },
        "xaxis": {
         "anchor": "y",
         "domain": [
          0,
          0.45
         ],
         "title": {
          "text": "Time"
         }
        },
        "xaxis2": {
         "anchor": "y2",
         "domain": [
          0.55,
          1
         ],
         "title": {
          "text": "Time"
         }
        },
        "xaxis3": {
         "anchor": "y3",
         "domain": [
          0,
          0.45
         ],
         "title": {
          "text": "Time"
         }
        },
        "xaxis4": {
         "anchor": "y4",
         "domain": [
          0.55,
          1
         ],
         "title": {
          "text": "Time"
         }
        },
        "yaxis": {
         "anchor": "x",
         "domain": [
          0.625,
          1
         ],
         "title": {
          "text": "kg/hr"
         }
        },
        "yaxis2": {
         "anchor": "x2",
         "domain": [
          0.625,
          1
         ],
         "title": {
          "text": "%"
         }
        },
        "yaxis3": {
         "anchor": "x3",
         "domain": [
          0,
          0.375
         ],
         "title": {
          "text": "kW"
         }
        },
        "yaxis4": {
         "anchor": "x4",
         "domain": [
          0,
          0.375
         ],
         "title": {
          "text": "%"
         }
        }
       }
      },
      "image/png": "[encoded data removed]",
      "text/html": [
       "<div>                            <div id=\"9e2d5911-b4b2-4bfe-aad5-6553e48eae33\" class=\"plotly-graph-div\" style=\"height:700px; width:100%;\"></div>            <script type=\"text/javascript\">                require([\"plotly\"], function(Plotly) {                    window.PLOTLYENV=window.PLOTLYENV || {};                                    if (document.getElementById(\"9e2d5911-b4b2-4bfe-aad5-6553e48eae33\")) {                    Plotly.newPlot(                        \"9e2d5911-b4b2-4bfe-aad5-6553e48eae33\",                        [{\"line\":{\"color\":\"blue\",\"width\":3},\"name\":\"Actual Output\",\"x\":[\"2025-10-13T18:07:58.062129\",\"2025-10-13T18:08:00.287477\",\"2025-10-13T18:08:02.462463\",\"2025-10-13T18:08:04.548355\",\"2025-10-13T18:08:06.630931\",\"2025-10-13T18:08:08.719726\",\"2025-10-13T18:08:10.841640\",\"2025-10-13T18:08:12.955774\",\"2025-10-13T18:08:15.039853\",\"2025-10-13T18:08:17.173262\"],\"y\":[16.5,18.25,15.49,20.54,19.85,17.24,16.75,20.67,17.92,17.88],\"type\":\"scatter\",\"xaxis\":\"x\",\"yaxis\":\"y\"},{\"line\":{\"color\":\"red\",\"dash\":\"dash\"},\"name\":\"Predicted Output\",\"x\":[\"2025-10-13T18:07:58.062129\",\"2025-10-13T18:08:00.287477\",\"2025-10-13T18:08:02.462463\",\"2025-10-13T18:08:04.548355\",\"2025-10-13T18:08:06.630931\",\"2025-10-13T18:08:08.719726\",\"2025-10-13T18:08:10.841640\",\"2025-10-13T18:08:12.955774\",\"2025-10-13T18:08:15.039853\",\"2025-10-13T18:08:17.173262\"],\"y\":[16.13,18.11,15.94,21.16,19.67,17.71,16.52,20.78,17.99,18.42],\"type\":\"scatter\",\"xaxis\":\"x\",\"yaxis\":\"y\"},{\"line\":{\"color\":\"green\",\"width\":3},\"name\":\"Actual Efficiency\",\"x\":[\"2025-10-13T18:07:58.062129\",\"2025-10-13T18:08:00.287477\",\"2025-10-13T18:08:02.462463\",\"2025-10-13T18:08:04.548355\",\"2025-10-13T18:08:06.630931\",\"2025-10-13T18:08:08.719726\",\"2025-10-13T18:08:10.841640\",\"2025-10-13T18:08:12.955774\",\"2025-10-13T18:08:15.039853\",\"2025-10-13T18:08:17.173262\"],\"y\":[51.4,53.71,53.18,58.02,62.71,51.78,54.64,59.39,57.57,56.55],\"type\":\"scatter\",\"xaxis\":\"x2\",\"yaxis\":\"y2\"},{\"line\":{\"color\":\"orange\",\"dash\":\"dash\"},\"name\":\"Predicted Efficiency\",\"x\":[\"2025-10-13T18:07:58.062129\",\"2025-10-13T18:08:00.287477\",\"2025-10-13T18:08:02.462463\",\"2025-10-13T18:08:04.548355\",\"2025-10-13T18:08:06.630931\",\"2025-10-13T18:08:08.719726\",\"2025-10-13T18:08:10.841640\",\"2025-10-13T18:08:12.955774\",\"2025-10-13T18:08:15.039853\",\"2025-10-13T18:08:17.173262\"],\"y\":[51.55,54.32,49.91,56.83,58.1,51.7,52.33,57.62,54.24,53.59],\"type\":\"scatter\",\"xaxis\":\"x2\",\"yaxis\":\"y2\"},{\"marker\":{\"color\":\"gold\"},\"name\":\"Solar\",\"x\":[\"2025-10-13T18:07:58.062129\",\"2025-10-13T18:08:00.287477\",\"2025-10-13T18:08:02.462463\",\"2025-10-13T18:08:04.548355\",\"2025-10-13T18:08:06.630931\",\"2025-10-13T18:08:08.719726\",\"2025-10-13T18:08:10.841640\",\"2025-10-13T18:08:12.955774\",\"2025-10-13T18:08:15.039853\",\"2025-10-13T18:08:17.173262\"],\"y\":[38.73,43.2,52.76,86.19,69.92,139.4,17.64,73.31,27.08,113.24],\"type\":\"bar\",\"xaxis\":\"x3\",\"yaxis\":\"y3\"},{\"marker\":{\"color\":\"lightblue\"},\"name\":\"Wind\",\"x\":[\"2025-10-13T18:07:58.062129\",\"2025-10-13T18:08:00.287477\",\"2025-10-13T18:08:02.462463\",\"2025-10-13T18:08:04.548355\",\"2025-10-13T18:08:06.630931\",\"2025-10-13T18:08:08.719726\",\"2025-10-13T18:08:10.841640\",\"2025-10-13T18:08:12.955774\",\"2025-10-13T18:08:15.039853\",\"2025-10-13T18:08:17.173262\"],\"y\":[11.0,58.6,20.33,96.91,121.06,69.46,6.22,68.97,21.92,110.19],\"type\":\"bar\",\"xaxis\":\"x3\",\"yaxis\":\"y3\"},{\"fill\":\"tozeroy\",\"line\":{\"color\":\"purple\",\"width\":2},\"name\":\"Tank Level\",\"x\":[\"2025-10-13T18:07:58.062129\",\"2025-10-13T18:08:00.287477\",\"2025-10-13T18:08:02.462463\",\"2025-10-13T18:08:04.548355\",\"2025-10-13T18:08:06.630931\",\"2025-10-13T18:08:08.719726\",\"2025-10-13T18:08:10.841640\",\"2025-10-13T18:08:12.955774\",\"2025-10-13T18:08:15.039853\",\"2025-10-13T18:08:17.173262\"],\"y\":[53.1,72.97,56.71,83.96,61.44,51.15,60.59,50.02,68.42,45.92],\"type\":\"scatter\",\"xaxis\":\"x4\",\"yaxis\":\"y4\"}],                        {\"template\":{\"data\":{\"histogram2dcontour\":[{\"type\":\"histogram2dcontour\",\"colorbar\":{\"outlinewidth\":0,\"ticks\":\"\"},\"colorscale\":[[0.0,\"#0d0887\"],[0.1111111111111111,\"#46039f\"],[0.2222222222222222,\"#7201a8\"],[0.3333333333333333,\"#9c179e\"],[0.4444444444444444,\"#bd3786\"],[0.5555555555555556,\"#d8576b\"],[0.6666666666666666,\"#ed7953\"],[0.7777777777777778,\"#fb9f3a\"],[0.8888888888888888,\"#fdca26\"],[1.0,\"#f0f921\"]]}],\"choropleth\":[{\"type\":\"choropleth\",\"colorbar\":{\"outlinewidth\":0,\"ticks\":\"\"}}],\"histogram2d\":[{\"type\":\"histogram2d\",\"colorbar\":{\"outlinewidth\":0,\"ticks\":\"\"},\"colorscale\":[[0.0,\"#0d0887\"],[0.1111111111111111,\"#46039f\"],[0.2222222222222222,\"#7201a8\"],[0.3333333333333333,\"#9c179e\"],[0.4444444444444444,\"#bd3786\"],[0.5555555555555556,\"#d8576b\"],[0.6666666666666666,\"#ed7953\"],[0.7777777777777778,\"#fb9f3a\"],[0.8888888888888888,\"#fdca26\"],[1.0,\"#f0f921\"]]}],\"heatmap\":[{\"type\":\"heatmap\",\"colorbar\":{\"outlinewidth\":0,\"ticks\":\"\"},\"colorscale\":[[0.0,\"#0d0887\"],[0.1111111111111111,\"#46039f\"],[0.2222222222222222,\"#7201a8\"],[0.3333333333333333,\"#9c179e\"],[0.4444444444444444,\"#bd3786\"],[0.5555555555555556,\"#d8576b\"],[0.6666666666666666,\"#ed7953\"],[0.7777777777777778,\"#fb9f3a\"],[0.8888888888888888,\"#fdca26\"],[1.0,\"#f0f921\"]]}],\"heatmapgl\":[{\"type\":\"heatmapgl\",\"colorbar\":{\"outlinewidth\":0,\"ticks\":\"\"},\"colorscale\":[[0.0,\"#0d0887\"],[0.1111111111111111,\"#46039f\"],[0.2222222222222222,\"#7201a8\"],[0.3333333333333333,\"#9c179e\"],[0.4444444444444444,\"#bd3786\"],[0.5555555555555556,\"#d8576b\"],[0.6666666666666666,\"#ed7953\"],[0.7777777777777778,\"#fb9f3a\"],[0.8888888888888888,\"#fdca26\"],[1.0,\"#f0f921\"]]}],\"contourcarpet\":[{\"type\":\"contourcarpet\",\"colorbar\":{\"outlinewidth\":0,\"ticks\":\"\"}}],\"contour\":[{\"type\":\"contour\",\"colorbar\":{\"outlinewidth\":0,\"ticks\":\"\"},\"colorscale\":[[0.0,\"#0d0887\"],[0.1111111111111111,\"#46039f\"],[0.2222222222222222,\"#7201a8\"],[0.3333333333333333,\"#9c179e\"],[0.4444444444444444,\"#bd3786\"],[0.5555555555555556,\"#d8576b\"],[0.6666666666666666,\"#ed7953\"],[0.7777777777777778,\"#fb9f3a\"],[0.8888888888888888,\"#fdca26\"],[1.0,\"#f0f921\"]]}],\"surface\":[{\"type\":\"surface\",\"colorbar\":{\"outlinewidth\":0,\"ticks\":\"\"},\"colorscale\":[[0.0,\"#0d0887\"],[0.1111111111111111,\"#46039f\"],[0.2222222222222222,\"#7201a8\"],[0.3333333333333333,\"#9c179e\"],[0.4444444444444444,\"#bd3786\"],[0.5555555555555556,\"#d8576b\"],[0.6666666666666666,\"#ed7953\"],[0.7777777777777778,\"#fb9f3a\"],[0.8888888888888888,\"#fdca26\"],[1.0,\"#f0f921\"]]}],\"mesh3d\":[{\"type\":\"mesh3d\",\"colorbar\":{\"outlinewidth\":0,\"ticks\":\"\"}}],\"scatter\":[{\"fillpattern\":{\"fillmode\":\"overlay\",\"size\":10,\"solidity\":0.2},\"type\":\"scatter\"}],\"parcoords\":[{\"type\":\"parcoords\",\"line\":{\"colorbar\":{\"outlinewidth\":0,\"ticks\":\"\"}}}],\"scatterpolargl\":[{\"type\":\"scatterpolargl\",\"marker\":{\"colorbar\":{\"outlinewidth\":0,\"ticks\":\"\"}}}],\"bar\":[{\"error_x\":{\"color\":\"#2a3f5f\"},\"error_y\":{\"color\":\"#2a3f5f\"},\"marker\":{\"line\":{\"color\":\"#E5ECF6\",\"width\":0.5},\"pattern\":{\"fillmode\":\"overlay\",\"size\":10,\"solidity\":0.2}},\"type\":\"bar\"}],\"scattergeo\":[{\"type\":\"scattergeo\",\"marker\":{\"colorbar\":{\"outlinewidth\":0,\"ticks\":\"\"}}}],\"scatterpolar\":[{\"type\":\"scatterpolar\",\"marker\":{\"colorbar\":{\"outlinewidth\":0,\"ticks\":\"\"}}}],\"histogram\":[{\"marker\":{\"pattern\":{\"fillmode\":\"overlay\",\"size\":10,\"solidity\":0.2}},\"type\":\"histogram\"}],\"scattergl\":[{\"type\":\"scattergl\",\"marker\":{\"colorbar\":{\"outlinewidth\":0,\"ticks\":\"\"}}}],\"scatter3d\":[{\"type\":\"scatter3d\",\"line\":{\"colorbar\":{\"outlinewidth\":0,\"ticks\":\"\"}},\"marker\":{\"colorbar\":{\"outlinewidth\":0,\"ticks\":\"\"}}}],\"scattermapbox\":[{\"type\":\"scattermapbox\",\"marker\":{\"colorbar\":{\"outlinewidth\":0,\"ticks\":\"\"}}}],\"scatterternary\":[{\"type\":\"scatterternary\",\"marker\":{\"colorbar\":{\"outlinewidth\":0,\"ticks\":\"\"}}}],\"scattercarpet\":[{\"type\":\"scattercarpet\",\"marker\":{\"colorbar\":{\"outlinewidth\":0,\"ticks\":\"\"}}}],\"carpet\":[{\"aaxis\":{\"endlinecolor\":\"#2a3f5f\",\"gridcolor\":\"white\",\"linecolor\":\"white\",\"minorgridcolor\":\"white\",\"startlinecolor\":\"#2a3f5f\"},\"baxis\":{\"endlinecolor\":\"#2a3f5f\",\"gridcolor\":\"white\",\"linecolor\":\"white\",\"minorgridcolor\":\"white\",\"startlinecolor\":\"#2a3f5f\"},\"type\":\"carpet\"}],\"table\":[{\"cells\":{\"fill\":{\"color\":\"#EBF0F8\"},\"line\":{\"color\":\"white\"}},\"header\":{\"fill\":{\"color\":\"#C8D4E3\"},\"line\":{\"color\":\"white\"}},\"type\":\"table\"}],\"barpolar\":[{\"marker\":{\"line\":{\"color\":\"#E5ECF6\",\"width\":0.5},\"pattern\":{\"fillmode\":\"overlay\",\"size\":10,\"solidity\":0.2}},\"type\":\"barpolar\"}],\"pie\":[{\"automargin\":true,\"type\":\"pie\"}]},\"layout\":{\"autotypenumbers\":\"strict\",\"colorway\":[\"#636efa\",\"#EF553B\",\"#00cc96\",\"#ab63fa\",\"#FFA15A\",\"#19d3f3\",\"#FF6692\",\"#B6E880\",\"#FF97FF\",\"#FECB52\"],\"font\":{\"color\":\"#2a3f5f\"},\"hovermode\":\"closest\",\"hoverlabel\":{\"align\":\"left\"},\"paper_bgcolor\":\"white\",\"plot_bgcolor\":\"#E5ECF6\",\"polar\":{\"bgcolor\":\"#E5ECF6\",\"angularaxis\":{\"gridcolor\":\"white\",\"linecolor\":\"white\",\"ticks\":\"\"},\"radialaxis\":{\"gridcolor\":\"white\",\"linecolor\":\"white\",\"ticks\":\"\"}},\"ternary\":{\"bgcolor\":\"#E5ECF6\",\"aaxis\":{\"gridcolor\":\"white\",\"linecolor\":\"white\",\"ticks\":\"\"},\"baxis\":{\"gridcolor\":\"white\",\"linecolor\":\"white\",\"ticks\":\"\"},\"caxis\":{\"gridcolor\":\"white\",\"linecolor\":\"white\",\"ticks\":\"\"}},\"coloraxis\":{\"colorbar\":{\"outlinewidth\":0,\"ticks\":\"\"}},\"colorscale\":{\"sequential\":[[0.0,\"#0d0887\"],[0.1111111111111111,\"#46039f\"],[0.2222222222222222,\"#7201a8\"],[0.3333333333333333,\"#9c179e\"],[0.4444444444444444,\"#bd3786\"],[0.5555555555555556,\"#d8576b\"],[0.6666666666666666,\"#ed7953\"],[0.7777777777777778,\"#fb9f3a\"],[0.8888888888888888,\"#fdca26\"],[1.0,\"#f0f921\"]],\"sequentialminus\":[[0.0,\"#0d0887\"],[0.1111111111111111,\"#46039f\"],[0.2222222222222222,\"#7201a8\"],[0.3333333333333333,\"#9c179e\"],[0.4444444444444444,\"#bd3786\"],[0.5555555555555556,\"#d8576b\"],[0.6666666666666666,\"#ed7953\"],[0.7777777777777778,\"#fb9f3a\"],[0.8888888888888888,\"#fdca26\"],[1.0,\"#f0f921\"]],\"diverging\":[[0,\"#8e0152\"],[0.1,\"#c51b7d\"],[0.2,\"#de77ae\"],[0.3,\"#f1b6da\"],[0.4,\"#fde0ef\"],[0.5,\"#f7f7f7\"],[0.6,\"#e6f5d0\"],[0.7,\"#b8e186\"],[0.8,\"#7fbc41\"],[0.9,\"#4d9221\"],[1,\"#276419\"]]},\"xaxis\":{\"gridcolor\":\"white\",\"linecolor\":\"white\",\"ticks\":\"\",\"title\":{\"standoff\":15},\"zerolinecolor\":\"white\",\"automargin\":true,\"zerolinewidth\":2},\"yaxis\":{\"gridcolor\":\"white\",\"linecolor\":\"white\",\"ticks\":\"\",\"title\":{\"standoff\":15},\"zerolinecolor\":\"white\",\"automargin\":true,\"zerolinewidth\":2},\"scene\":{\"xaxis\":{\"backgroundcolor\":\"#E5ECF6\",\"gridcolor\":\"white\",\"linecolor\":\"white\",\"showbackground\":true,\"ticks\":\"\",\"zerolinecolor\":\"white\",\"gridwidth\":2},\"yaxis\":{\"backgroundcolor\":\"#E5ECF6\",\"gridcolor\":\"white\",\"linecolor\":\"white\",\"showbackground\":true,\"ticks\":\"\",\"zerolinecolor\":\"white\",\"gridwidth\":2},\"zaxis\":{\"backgroundcolor\":\"#E5ECF6\",\"gridcolor\":\"white\",\"linecolor\":\"white\",\"showbackground\":true,\"ticks\":\"\",\"zerolinecolor\":\"white\",\"gridwidth\":2}},\"shapedefaults\":{\"line\":{\"color\":\"#2a3f5f\"}},\"annotationdefaults\":{\"arrowcolor\":\"#2a3f5f\",\"arrowhead\":0,\"arrowwidth\":1},\"geo\":{\"bgcolor\":\"white\",\"landcolor\":\"#E5ECF6\",\"subunitcolor\":\"white\",\"showland\":true,\"showlakes\":true,\"lakecolor\":\"white\"},\"title\":{\"x\":0.05},\"mapbox\":{\"style\":\"light\"}}},\"xaxis\":{\"anchor\":\"y\",\"domain\":[0.0,0.45],\"title\":{\"text\":\"Time\"}},\"yaxis\":{\"anchor\":\"x\",\"domain\":[0.625,1.0],\"title\":{\"text\":\"kg\\u002fhr\"}},\"xaxis2\":{\"anchor\":\"y2\",\"domain\":[0.55,1.0],\"title\":{\"text\":\"Time\"}},\"yaxis2\":{\"anchor\":\"x2\",\"domain\":[0.625,1.0],\"title\":{\"text\":\"%\"}},\"xaxis3\":{\"anchor\":\"y3\",\"domain\":[0.0,0.45],\"title\":{\"text\":\"Time\"}},\"yaxis3\":{\"anchor\":\"x3\",\"domain\":[0.0,0.375],\"title\":{\"text\":\"kW\"}},\"xaxis4\":{\"anchor\":\"y4\",\"domain\":[0.55,1.0],\"title\":{\"text\":\"Time\"}},\"yaxis4\":{\"anchor\":\"x4\",\"domain\":[0.0,0.375],\"title\":{\"text\":\"%\"}},\"annotations\":[{\"font\":{\"size\":16},\"showarrow\":false,\"text\":\"Hydrogen Output (Actual vs Predicted)\",\"x\":0.225,\"xanchor\":\"center\",\"xref\":\"paper\",\"y\":1.0,\"yanchor\":\"bottom\",\"yref\":\"paper\"},{\"font\":{\"size\":16},\"showarrow\":false,\"text\":\"System Efficiency\",\"x\":0.775,\"xanchor\":\"center\",\"xref\":\"paper\",\"y\":1.0,\"yanchor\":\"bottom\",\"yref\":\"paper\"},{\"font\":{\"size\":16},\"showarrow\":false,\"text\":\"Energy Sources\",\"x\":0.225,\"xanchor\":\"center\",\"xref\":\"paper\",\"y\":0.375,\"yanchor\":\"bottom\",\"yref\":\"paper\"},{\"font\":{\"size\":16},\"showarrow\":false,\"text\":\"Tank Level\",\"x\":0.775,\"xanchor\":\"center\",\"xref\":\"paper\",\"y\":0.375,\"yanchor\":\"bottom\",\"yref\":\"paper\"}],\"title\":{\"text\":\"Hydrogen System Live Dashboard\"},\"height\":700,\"showlegend\":true},                        {\"responsive\": true}                    ).then(function(){\n",
       "                            \n",
       "var gd = document.getElementById('9e2d5911-b4b2-4bfe-aad5-6553e48eae33');\n",
       "var x = new MutationObserver(function (mutations, observer) {{\n",
       "        var display = window.getComputedStyle(gd).display;\n",
       "        if (!display || display === 'none') {{\n",
       "            console.log([gd, 'removed!']);\n",
       "            Plotly.purge(gd);\n",
       "            observer.disconnect();\n",
       "        }}\n",
       "}});\n",
       "\n",
       "// Listen for the removal of the full notebook cells\n",
       "var notebookContainer = gd.closest('#notebook-container');\n",
       "if (notebookContainer) {{\n",
       "    x.observe(notebookContainer, {childList: true});\n",
       "}}\n",
       "\n",
       "// Listen for the clearing of the current output cell\n",
       "var outputEl = gd.closest('.output');\n",
       "if (outputEl) {{\n",
       "    x.observe(outputEl, {childList: true});\n",
       "}}\n",
       "\n",
       "                        })                };                });            </script>        </div>"
      ]
     },
     "metadata": {},
     "output_type": "display_data"
    },
    {
     "data": {
      "text/html": [
       "<div>\n",
       "<style scoped>\n",
       "    .dataframe tbody tr th:only-of-type {\n",
       "        vertical-align: middle;\n",
       "    }\n",
       "\n",
       "    .dataframe tbody tr th {\n",
       "        vertical-align: top;\n",
       "    }\n",
       "\n",
       "    .dataframe thead th {\n",
       "        text-align: right;\n",
       "    }\n",
       "</style>\n",
       "<table border=\"1\" class=\"dataframe\">\n",
       "  <thead>\n",
       "    <tr style=\"text-align: right;\">\n",
       "      <th></th>\n",
       "      <th>timestamp</th>\n",
       "      <th>hydrogen_output_kg_hr</th>\n",
       "      <th>predicted_hydrogen_kg_hr</th>\n",
       "      <th>efficiency_pct</th>\n",
       "    </tr>\n",
       "  </thead>\n",
       "  <tbody>\n",
       "    <tr>\n",
       "      <th>0</th>\n",
       "      <td>2025-10-13 18:07:58.062129</td>\n",
       "      <td>16.500000</td>\n",
       "      <td>16.129999</td>\n",
       "      <td>51.40</td>\n",
       "    </tr>\n",
       "    <tr>\n",
       "      <th>1</th>\n",
       "      <td>2025-10-13 18:08:00.287477</td>\n",
       "      <td>18.250000</td>\n",
       "      <td>18.110001</td>\n",
       "      <td>53.71</td>\n",
       "    </tr>\n",
       "    <tr>\n",
       "      <th>2</th>\n",
       "      <td>2025-10-13 18:08:02.462463</td>\n",
       "      <td>15.490000</td>\n",
       "      <td>15.940000</td>\n",
       "      <td>53.18</td>\n",
       "    </tr>\n",
       "    <tr>\n",
       "      <th>3</th>\n",
       "      <td>2025-10-13 18:08:04.548355</td>\n",
       "      <td>20.540001</td>\n",
       "      <td>21.160000</td>\n",
       "      <td>58.02</td>\n",
       "    </tr>\n",
       "    <tr>\n",
       "      <th>4</th>\n",
       "      <td>2025-10-13 18:08:06.630931</td>\n",
       "      <td>19.850000</td>\n",
       "      <td>19.670000</td>\n",
       "      <td>62.71</td>\n",
       "    </tr>\n",
       "    <tr>\n",
       "      <th>5</th>\n",
       "      <td>2025-10-13 18:08:08.719726</td>\n",
       "      <td>17.240000</td>\n",
       "      <td>17.709999</td>\n",
       "      <td>51.78</td>\n",
       "    </tr>\n",
       "    <tr>\n",
       "      <th>6</th>\n",
       "      <td>2025-10-13 18:08:10.841640</td>\n",
       "      <td>16.750000</td>\n",
       "      <td>16.520000</td>\n",
       "      <td>54.64</td>\n",
       "    </tr>\n",
       "    <tr>\n",
       "      <th>7</th>\n",
       "      <td>2025-10-13 18:08:12.955774</td>\n",
       "      <td>20.670000</td>\n",
       "      <td>20.780001</td>\n",
       "      <td>59.39</td>\n",
       "    </tr>\n",
       "    <tr>\n",
       "      <th>8</th>\n",
       "      <td>2025-10-13 18:08:15.039853</td>\n",
       "      <td>17.920000</td>\n",
       "      <td>17.990000</td>\n",
       "      <td>57.57</td>\n",
       "    </tr>\n",
       "    <tr>\n",
       "      <th>9</th>\n",
       "      <td>2025-10-13 18:08:17.173262</td>\n",
       "      <td>17.879999</td>\n",
       "      <td>18.420000</td>\n",
       "      <td>56.55</td>\n",
       "    </tr>\n",
       "  </tbody>\n",
       "</table>\n",
       "</div>"
      ],
      "text/plain": [
       "                   timestamp  hydrogen_output_kg_hr  predicted_hydrogen_kg_hr  \\\n",
       "0 2025-10-13 18:07:58.062129              16.500000                 16.129999   \n",
       "1 2025-10-13 18:08:00.287477              18.250000                 18.110001   \n",
       "2 2025-10-13 18:08:02.462463              15.490000                 15.940000   \n",
       "3 2025-10-13 18:08:04.548355              20.540001                 21.160000   \n",
       "4 2025-10-13 18:08:06.630931              19.850000                 19.670000   \n",
       "5 2025-10-13 18:08:08.719726              17.240000                 17.709999   \n",
       "6 2025-10-13 18:08:10.841640              16.750000                 16.520000   \n",
       "7 2025-10-13 18:08:12.955774              20.670000                 20.780001   \n",
       "8 2025-10-13 18:08:15.039853              17.920000                 17.990000   \n",
       "9 2025-10-13 18:08:17.173262              17.879999                 18.420000   \n",
       "\n",
       "   efficiency_pct  \n",
       "0           51.40  \n",
       "1           53.71  \n",
       "2           53.18  \n",
       "3           58.02  \n",
       "4           62.71  \n",
       "5           51.78  \n",
       "6           54.64  \n",
       "7           59.39  \n",
       "8           57.57  \n",
       "9           56.55  "
      ]
     },
     "metadata": {},
     "output_type": "display_data"
    },
    {
     "name": "stdout",
     "output_type": "stream",
     "text": [
      "\n",
      " Short simulation complete!\n"
     ]
    }
   ],
   "source": [
    "# Run Live Simulation (Short Version - 10 iterations)\n",
    "\n",
    "# Create list to collect all readings\n",
    "simulation_data = []\n",
    "\n",
    "for i in range(10):\n",
    "    # Get new reading\n",
    "    new_reading = simulate_live_reading()\n",
    "    new_reading['timestamp'] = pd.Timestamp.now() + pd.Timedelta(seconds=i)\n",
    "    \n",
    "    # Append to list\n",
    "    simulation_data.append(new_reading)\n",
    "    \n",
    "    # Create dataframe from collected data\n",
    "    simulation_df = pd.DataFrame(simulation_data)\n",
    "    \n",
    "    # Clear output and show updated dashboard\n",
    "    clear_output(wait=True)\n",
    "    \n",
    "    print(f\"⏱️  Iteration {i+1}/10\")\n",
    "    print(f\"Current H₂ Output: {new_reading['hydrogen_output_kg_hr']} kg/hr\")\n",
    "    print(f\"Predicted H₂ Output: {new_reading['predicted_hydrogen_kg_hr']} kg/hr\")\n",
    "    print(f\"Efficiency: {new_reading['efficiency_pct']}%\\n\")\n",
    "    \n",
    "    # Show dashboard every iteration\n",
    "    fig = create_live_dashboard(simulation_df, num_points=len(simulation_df))\n",
    "    fig.show()\n",
    "    \n",
    "    # Display current data\n",
    "    display(simulation_df[['timestamp', 'hydrogen_output_kg_hr', \n",
    "                           'predicted_hydrogen_kg_hr', 'efficiency_pct']])\n",
    "    \n",
    "    time.sleep(1)  # Wait 1 second between updates\n",
    "print(\"\\n Short simulation complete!\")"
   ]
  },
  {
   "cell_type": "code",
   "execution_count": null,
   "id": "f68f80e0-3651-4288-9118-2d1caf66130c",
   "metadata": {},
   "outputs": [],
   "source": []
  },
  {
   "cell_type": "code",
   "execution_count": null,
   "id": "bcbf47e5-e763-4e3b-9bf3-3ed1a1e85edf",
   "metadata": {},
   "outputs": [],
   "source": []
  }
 ],
 "metadata": {
  "kernelspec": {
   "display_name": "Python 3 (ipykernel)",
   "language": "python",
   "name": "python3"
  },
  "language_info": {
   "codemirror_mode": {
    "name": "ipython",
    "version": 3
   },
   "file_extension": ".py",
   "mimetype": "text/x-python",
   "name": "python",
   "nbconvert_exporter": "python",
   "pygments_lexer": "ipython3",
   "version": "3.13.5"
  }
 },
 "nbformat": 4,
 "nbformat_minor": 5
}
